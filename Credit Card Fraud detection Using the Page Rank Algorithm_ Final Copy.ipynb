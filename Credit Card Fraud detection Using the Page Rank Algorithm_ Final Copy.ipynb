{
 "cells": [
  {
   "cell_type": "markdown",
   "id": "4474e247",
   "metadata": {},
   "source": [
    "# Credit Card Fraud detection Using the Page Rank Algorithm"
   ]
  },
  {
   "cell_type": "markdown",
   "id": "ed29039f",
   "metadata": {},
   "source": [
    "Step 1: Import the required libraries"
   ]
  },
  {
   "cell_type": "code",
   "execution_count": null,
   "id": "35615348",
   "metadata": {},
   "outputs": [],
   "source": [
    "import pandas as pd\n",
    "import networkx as nx\n",
    "import matplotlib.pyplot as plt"
   ]
  },
  {
   "cell_type": "markdown",
   "id": "f4ddbd9a",
   "metadata": {},
   "source": [
    "Step 2: Load and preprocess the dataset"
   ]
  },
  {
   "cell_type": "code",
   "execution_count": null,
   "id": "edbfb7d9",
   "metadata": {},
   "outputs": [],
   "source": [
    "df = pd.read_csv(\"C:\\\\Users\\\\Administrator\\\\Desktop\\\\Wangari Muchai\\\\UON\\\\Matrix Computations\\\\Data Sets\\\\Credit card Transactions2.csv\")\n",
    "df.head()\n",
    "# Perform necessary preprocessing steps\n",
    "# Handle missing values\n",
    "df = df.dropna()\n",
    "\n",
    "# Scale numerical features\n",
    "numeric_features = ['Time', 'V1', 'V2', 'V3', 'V4', 'V5', 'V6', 'V7', 'V8', 'V9', 'V10',\n",
    "                    'V11', 'V12', 'V13', 'V14', 'V15', 'V16', 'V17', 'V18', 'V19', 'V20',\n",
    "                    'V21', 'V22', 'V23', 'V24', 'V25', 'V26', 'V27', 'V28', 'Amount']\n",
    "df[numeric_features] = df[numeric_features].apply(lambda x: (x - x.mean()) / x.std())\n",
    "\n",
    "# Ensure the dataset is in a suitable format for analysis\n",
    "# Convert 'Class' column to integer type if necessary\n",
    "df['Class'] = df['Class'].astype(int)\n",
    "\n",
    "# scaling numerical features, encoding categorical features, etc.\n",
    "# Ensure the dataset is in a suitable format for analysis.\n",
    "## Structure of the dataset\n",
    "df.info()"
   ]
  },
  {
   "cell_type": "markdown",
   "id": "8d77e288",
   "metadata": {},
   "source": [
    "Step 3: Define the function to check shared features or relationships"
   ]
  },
  {
   "cell_type": "code",
   "execution_count": null,
   "id": "791e8019",
   "metadata": {},
   "outputs": [],
   "source": [
    "def share_common_features(df, transaction_id1, transaction_id2):\n",
    "    # Extract the relevant columns for comparison\n",
    "    transaction1 = df.loc[transaction_id1, ['Time', 'V1', 'V2', 'V3', 'V4', 'V5', 'V6', 'V7', 'V8', 'V9', 'V10',\n",
    "                                           'V11', 'V12', 'V13', 'V14', 'V15', 'V16', 'V17', 'V18', 'V19', 'V20',\n",
    "                                           'V21', 'V22', 'V23', 'V24', 'V25', 'V26', 'V27', 'V28', 'Amount', 'Class']]\n",
    "    transaction2 = df.loc[transaction_id2, ['Time', 'V1', 'V2', 'V3', 'V4', 'V5', 'V6', 'V7', 'V8', 'V9', 'V10',\n",
    "                                           'V11', 'V12', 'V13', 'V14', 'V15', 'V16', 'V17', 'V18', 'V19', 'V20',\n",
    "                                           'V21', 'V22', 'V23', 'V24', 'V25', 'V26', 'V27', 'V28', 'Amount', 'Class']]\n",
    "\n",
    "    # Implement your logic to compare the features or detect relationships\n",
    "    # based on the specific attributes of the transactions\n",
    "\n",
    "    # Example: Compare the Amounts of the transactions\n",
    "    if transaction1['Amount'] == transaction2['Amount']:\n",
    "        return True\n",
    "    else:\n",
    "        return False\n"
   ]
  },
  {
   "cell_type": "markdown",
   "id": "d41da338",
   "metadata": {},
   "source": [
    "Step 4: Construct the network graph and visualize it"
   ]
  },
  {
   "cell_type": "code",
   "execution_count": null,
   "id": "cfefaef5",
   "metadata": {},
   "outputs": [],
   "source": [
    "G = nx.Graph()\n",
    "transaction_ids = df.index.unique()\n",
    "G.add_nodes_from(transaction_ids)\n",
    "\n",
    "for i, transaction_id1 in enumerate(transaction_ids):\n",
    "    for j in range(i + 1, len(transaction_ids)):\n",
    "        transaction_id2 = transaction_ids[j]\n",
    "\n",
    "        # Check if transactions share common features or relationships\n",
    "        if share_common_features(df, transaction_id1, transaction_id2):\n",
    "            G.add_edge(transaction_id1, transaction_id2)\n",
    "\n",
    "# Visualize the network graph\n",
    "pos = nx.spring_layout(G)  # Layout for node positioning\n",
    "nx.draw_networkx(G, pos, with_labels=True, node_size=100, font_size=8)\n",
    "plt.title(\"Network Graph of Credit Card Transactions\")\n",
    "plt.show()\n"
   ]
  },
  {
   "cell_type": "markdown",
   "id": "4ba5d065",
   "metadata": {},
   "source": [
    "Step 5: Calculate PageRank scores"
   ]
  },
  {
   "cell_type": "code",
   "execution_count": null,
   "id": "3a7a1794",
   "metadata": {},
   "outputs": [],
   "source": [
    "pagerank_scores = nx.pagerank(G)\n"
   ]
  },
  {
   "cell_type": "markdown",
   "id": "9343ac56",
   "metadata": {},
   "source": [
    "Step 6: Set a threshold to classify transactions as potentially fraudulent or not"
   ]
  },
  {
   "cell_type": "code",
   "execution_count": null,
   "id": "bae74ef6",
   "metadata": {},
   "outputs": [],
   "source": [
    "threshold = 0.5"
   ]
  },
  {
   "cell_type": "markdown",
   "id": "8e6bfbee",
   "metadata": {},
   "source": [
    "Step 7: Identify potential fraudulent transactions based on their PageRank scores"
   ]
  },
  {
   "cell_type": "code",
   "execution_count": null,
   "id": "fdcfc781",
   "metadata": {},
   "outputs": [],
   "source": [
    "fraudulent_transactions = [\n",
    "    transaction_id\n",
    "    for transaction_id, score in pagerank_scores.items()\n",
    "    if score > threshold\n",
    "]"
   ]
  },
  {
   "cell_type": "markdown",
   "id": "ccb4b544",
   "metadata": {},
   "source": [
    "Step 8: Display the potential fraudulent transactions"
   ]
  },
  {
   "cell_type": "code",
   "execution_count": null,
   "id": "6b727fec",
   "metadata": {},
   "outputs": [],
   "source": [
    "print(\"Potential fraudulent transactions:\")\n",
    "for transaction_id in fraudulent_transactions:\n",
    "    print(transaction_id)"
   ]
  },
  {
   "cell_type": "markdown",
   "id": "24d3dbfe",
   "metadata": {},
   "source": [
    "Step 9: Evaluate the performance of fraud detection"
   ]
  },
  {
   "cell_type": "code",
   "execution_count": null,
   "id": "faa8473d",
   "metadata": {},
   "outputs": [],
   "source": [
    "# Assuming you have ground truth labels for the transactions in the dataset\n",
    "ground_truth_labels = df['Class']\n",
    "\n",
    "# Create a binary classification label based on the threshold\n",
    "predicted_labels = [1 if transaction_id in fraudulent_transactions else 0 for transaction_id in transaction_ids]\n",
    "\n",
    "# Calculate confusion matrix and classification report\n",
    "cm = confusion_matrix(ground_truth_labels, predicted_labels)\n",
    "cr = classification_report(ground_truth_labels, predicted_labels)\n",
    "\n",
    "print(\"Confusion Matrix:\")\n",
    "print(cm)\n",
    "print(\"\\nClassification Report:\")\n",
    "print(cr)\n"
   ]
  }
 ],
 "metadata": {
  "kernelspec": {
   "display_name": "Python 3 (ipykernel)",
   "language": "python",
   "name": "python3"
  },
  "language_info": {
   "codemirror_mode": {
    "name": "ipython",
    "version": 3
   },
   "file_extension": ".py",
   "mimetype": "text/x-python",
   "name": "python",
   "nbconvert_exporter": "python",
   "pygments_lexer": "ipython3",
   "version": "3.9.12"
  }
 },
 "nbformat": 4,
 "nbformat_minor": 5
}
